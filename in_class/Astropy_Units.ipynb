{
  "nbformat": 4,
  "nbformat_minor": 0,
  "metadata": {
    "colab": {
      "provenance": [],
      "authorship_tag": "ABX9TyOGTgAhdXvVPlhW2dHs1mC4",
      "include_colab_link": true
    },
    "kernelspec": {
      "name": "python3",
      "display_name": "Python 3"
    },
    "language_info": {
      "name": "python"
    }
  },
  "cells": [
    {
      "cell_type": "markdown",
      "metadata": {
        "id": "view-in-github",
        "colab_type": "text"
      },
      "source": [
        "<a href=\"https://colab.research.google.com/github/johnarban/collab_notebooks/blob/main/Astropy_Units.ipynb\" target=\"_parent\"><img src=\"https://colab.research.google.com/assets/colab-badge.svg\" alt=\"Open In Colab\"/></a>"
      ]
    },
    {
      "cell_type": "code",
      "source": [
        "# if necessary install astropy by uncommenting this line\n",
        "# !pip install astropy"
      ],
      "metadata": {
        "id": "lkFjXdPU5iu7"
      },
      "execution_count": 82,
      "outputs": []
    },
    {
      "cell_type": "code",
      "execution_count": 1,
      "metadata": {
        "id": "0QHzXdQJ4fwc"
      },
      "outputs": [],
      "source": [
        "# astropy - astronomy python\n",
        "import astropy.constants as const # constants\n",
        "import astropy.units as u # units"
      ]
    },
    {
      "cell_type": "code",
      "source": [
        "from math import pi # get a value for pi 3.14159......\n"
      ],
      "metadata": {
        "id": "Zxb6wQhw7Qkr"
      },
      "execution_count": 9,
      "outputs": []
    },
    {
      "cell_type": "markdown",
      "source": [
        "# Stefan-Boltzmann equation\n",
        "\n",
        "$ L = 4 \\pi R^2 \\sigma_{SB} T^4 $"
      ],
      "metadata": {
        "id": "gxat0ShA6Snk"
      }
    },
    {
      "cell_type": "code",
      "source": [
        "\n",
        "def luminosity(radius, temperature):\n",
        "  # stefan-boltzmann equation. using astropy units\n",
        "  # assume radius and temp are astropy quantities\n",
        "  sb = const.sigma_sb\n",
        "  lum = 4 * pi * radius**2 * sb * temperature**4\n",
        "  return lum"
      ],
      "metadata": {
        "id": "K-i65MZ7-ucb"
      },
      "execution_count": 57,
      "outputs": []
    },
    {
      "cell_type": "code",
      "source": [
        "def luminosity_solLum(radius, temperature):\n",
        "  # stefan-boltzmann equation. using astropy units\n",
        "  # assume radius and temp are astropy quantities\n",
        "  # returns answer in solar luminosities\n",
        "  sb = const.sigma_sb\n",
        "  lum = 4 * pi * radius**2 * sb * temperature**4\n",
        "  return lum.to('solLum')"
      ],
      "metadata": {
        "id": "UBvsCL8Q57xv"
      },
      "execution_count": 58,
      "outputs": []
    },
    {
      "cell_type": "code",
      "source": [
        "L = luminosity_solLum(1 * const.R_sun, 5777 * u.K)"
      ],
      "metadata": {
        "id": "QoFTf8hB59x5"
      },
      "execution_count": 35,
      "outputs": []
    },
    {
      "cell_type": "code",
      "source": [
        "temp = [3000 * u.K, 5000 *u.K, 10000* u.K]\n",
        "r = 2 * const.R_sun"
      ],
      "metadata": {
        "id": "6IU7QvFU7N3N"
      },
      "execution_count": 50,
      "outputs": []
    },
    {
      "cell_type": "markdown",
      "source": [
        "A `for` loop, runs over the elements of whatever you give it after `in`. In this case, it will loop over the values of `temp`. The `.append` method on lists adds a value to the end of a list"
      ],
      "metadata": {
        "id": "cFjTsm5xI-7v"
      }
    },
    {
      "cell_type": "code",
      "source": [
        "L_list = []\n",
        "for T in temp:\n",
        "  L_list.append(luminosity_solLum(r, T))\n",
        "\n",
        "print(L_list)"
      ],
      "metadata": {
        "id": "3UbxJma28wXc"
      },
      "execution_count": 55,
      "outputs": []
    },
    {
      "cell_type": "markdown",
      "source": [
        "Now suppose we have different radii as well. This time we want to loop over our indices"
      ],
      "metadata": {
        "id": "HKuXHfDrBiB9"
      }
    },
    {
      "cell_type": "code",
      "source": [
        "radii = [3 * const.R_sun, 4 * 10**10 * u.cm, 7e-5 * u.au]"
      ],
      "metadata": {
        "id": "UcaJK_A273E_"
      },
      "execution_count": 61,
      "outputs": []
    },
    {
      "cell_type": "code",
      "source": [
        "new_L = []\n",
        "\n",
        "for i in range(len(temp)):\n",
        "  new_L.append( luminosity_solLum(radii[i], temp[i] ))\n",
        "\n",
        "print(new_L)"
      ],
      "metadata": {
        "colab": {
          "base_uri": "https://localhost:8080/"
        },
        "id": "OrU8TVKc_R0K",
        "outputId": "0819b405-6361-4dc6-c554-76d45615451b"
      },
      "execution_count": 62,
      "outputs": [
        {
          "output_type": "stream",
          "name": "stdout",
          "text": [
            "[<Quantity 0.65678195 solLum>, <Quantity 0.18614427 solLum>, <Quantity 0.00204125 solLum>]\n"
          ]
        }
      ]
    },
    {
      "cell_type": "code",
      "source": [],
      "metadata": {
        "id": "s2TNBOH3ALjJ"
      },
      "execution_count": 62,
      "outputs": []
    },
    {
      "cell_type": "markdown",
      "source": [],
      "metadata": {
        "id": "cbqCqX-ZALb-"
      }
    },
    {
      "cell_type": "markdown",
      "source": [
        "# Heading 1\n",
        "## Heading 2\n",
        "\n",
        "$ \\frac{3}{4} $\n",
        "\n",
        "- list 1\n",
        "- list 2\n",
        "  - list 3"
      ],
      "metadata": {
        "id": "7Zl22DtA8bhX"
      }
    },
    {
      "cell_type": "code",
      "source": [
        "# everything in SI units\n",
        "\n",
        "def fgrav(mass_planet, mass_2, radius):\n",
        "  force_of_grav = const.G * mass_planet * mass_2 / radius**2\n",
        "  return force_of_grav"
      ],
      "metadata": {
        "id": "B1Vst5R-8SQN"
      },
      "execution_count": 66,
      "outputs": []
    },
    {
      "cell_type": "code",
      "source": [
        "Fearth = fgrav(const.M_earth, 100 * u.kg, const.R_earth)"
      ],
      "metadata": {
        "id": "-fzKfFgjGWWL"
      },
      "execution_count": 73,
      "outputs": []
    },
    {
      "cell_type": "code",
      "source": [
        "mass_mars = 6.4e23 * u.kg\n",
        "rad_mars = 3.3e6 * u.m\n",
        "\n",
        "Fmars = fgrav(mass_mars, 100*u.kg, rad_mars)"
      ],
      "metadata": {
        "id": "eR19kAwcGXjM"
      },
      "execution_count": 77,
      "outputs": []
    },
    {
      "cell_type": "code",
      "source": [
        "Fearth / Fmars"
      ],
      "metadata": {
        "colab": {
          "base_uri": "https://localhost:8080/",
          "height": 37
        },
        "id": "A3HjseawHp2m",
        "outputId": "40fbcd46-c83d-4252-cb36-b6dbf99bcb74"
      },
      "execution_count": 78,
      "outputs": [
        {
          "output_type": "execute_result",
          "data": {
            "text/plain": [
              "<Quantity 2.49802778>"
            ],
            "text/latex": "$2.4980278 \\; \\mathrm{}$"
          },
          "metadata": {},
          "execution_count": 78
        }
      ]
    },
    {
      "cell_type": "code",
      "source": [],
      "metadata": {
        "id": "p7XYkvFrHsyE"
      },
      "execution_count": 81,
      "outputs": []
    },
    {
      "cell_type": "code",
      "source": [],
      "metadata": {
        "id": "JecQ9bdpITS7"
      },
      "execution_count": null,
      "outputs": []
    }
  ]
}