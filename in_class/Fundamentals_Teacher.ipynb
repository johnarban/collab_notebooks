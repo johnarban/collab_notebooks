{
 "cells": [
  {
   "attachments": {},
   "cell_type": "markdown",
   "id": "c12f8ddb-9864-4697-8a19-1fec3c46868c",
   "metadata": {},
   "source": [
    "# Fundamentals of Programming\n",
    " 1. **Variables**\n",
    " 2. **Data Types**\n",
    " 3. **Operators**\n",
    " 4. **Conditional Statements**\n",
    " 5. **Loops**\n",
    " 6. **Functions**\n",
    " 7. ~~**Classes**~~\n",
    " 8. **Modules and Packages**\n",
    " 12. **Comprehensions**\n",
    " 13. **Lambda Functions**\n"
   ]
  },
  {
   "attachments": {},
   "cell_type": "markdown",
   "id": "7c0ef13a",
   "metadata": {},
   "source": [
    "## Variables\n",
    "\n",
    "Variables are used to store values. A variable is created the moment you first assign a value to it.\n",
    "\n",
    "### Variable Names\n",
    "- can contain letters, numbers, and the underscore character. \n",
    "- cannot start with a number. \n",
    "- are case-sensitive.\n",
    "\n",
    "### Assign Value to Multiple Variables\n",
    "Python allows you to assign values to multiple variables in one line"
   ]
  },
  {
   "cell_type": "code",
   "execution_count": 22,
   "id": "99bd7d92",
   "metadata": {},
   "outputs": [
    {
     "name": "stdout",
     "output_type": "stream",
     "text": [
      "x: 1, y: 1\n",
      "x: 2, y: 1\n",
      "a: 2, b: 1\n"
     ]
    }
   ],
   "source": [
    "# Numbers\n",
    "\n",
    "x = 1\n",
    "y = x\n",
    "print('x: {x}, y: {y}'.format(x=x, y=y))\n",
    "\n",
    "x = 2\n",
    "print('x: {x}, y: {y}'.format(x=x, y=y))\n",
    "\n",
    "a = 1\n",
    "b = a\n",
    "a += 1\n",
    "print('a: {a}, b: {b}'.format(a=a, b=b))"
   ]
  },
  {
   "cell_type": "code",
   "execution_count": 23,
   "id": "33adfe58",
   "metadata": {},
   "outputs": [
    {
     "name": "stdout",
     "output_type": "stream",
     "text": [
      "x: [1, 2, 3], y: [1, 2, 3]\n",
      "x: [0, 2, 3], y: [0, 2, 3]\n"
     ]
    }
   ],
   "source": [
    "# Lists\n",
    "\n",
    "x = [1, 2, 3]\n",
    "y = x\n",
    "print('x: {x}, y: {y}'.format(x=x, y=y))\n",
    "\n",
    "x[0] = 0\n",
    "print('x: {x}, y: {y}'.format(x=x, y=y))"
   ]
  },
  {
   "attachments": {},
   "cell_type": "markdown",
   "id": "02d5af86",
   "metadata": {},
   "source": [
    "### Mutable vs. Immutable\n",
    "\n",
    "Mutable types are: lists, dictionaries\n",
    "Immutable types are: strings, integers, floats, booleans, tuples"
   ]
  },
  {
   "cell_type": "code",
   "execution_count": 26,
   "id": "d1d14f3b",
   "metadata": {},
   "outputs": [
    {
     "name": "stdout",
     "output_type": "stream",
     "text": [
      "x: abc, y: abc\n"
     ]
    }
   ],
   "source": [
    "# Strings\n",
    "\n",
    "x = 'abc'\n",
    "y = x\n",
    "print('x: {x}, y: {y}'.format(x=x, y=y))"
   ]
  },
  {
   "cell_type": "code",
   "execution_count": null,
   "id": "e8dac8ef",
   "metadata": {},
   "outputs": [],
   "source": [
    "x = 'def'\n",
    "print('x: {x}, y: {y}'.format(x=x, y=y))\n",
    "\n",
    "y = x\n",
    "x[0] = 'z'\n",
    "print('x: {x}, y: {y}'.format(x=x, y=y))"
   ]
  },
  {
   "attachments": {},
   "cell_type": "markdown",
   "id": "50013a98",
   "metadata": {},
   "source": [
    "## Data Types\n",
    "\n",
    "### Built-in Data Types\n",
    "- Text Type:\t`str`\n",
    "- Numeric Types:\t`int`, `float`, `complex`\n",
    "- Sequence Types:\t`list`, `tuple`\n",
    "- Mapping Type:\t`dict`\n",
    "- Set Types:\t`set`\n",
    "- Boolean Type:\t`bool`\n"
   ]
  },
  {
   "cell_type": "code",
   "execution_count": 27,
   "id": "1acef2b7",
   "metadata": {},
   "outputs": [],
   "source": [
    "# Numeric Types\n",
    "\n",
    "x = 1 # int\n",
    "y = 1.0 # float\n",
    "z = 1 + 2j # complex"
   ]
  },
  {
   "attachments": {},
   "cell_type": "markdown",
   "id": "5f50e5ed",
   "metadata": {},
   "source": [
    "## Math Operators\n",
    "\n",
    "| Operator | Name | Example |\n",
    "| --- | --- | --- |\n",
    "| `+` | Addition | `x + y` |\n",
    "| `-` | Subtraction | `x - y` |\n",
    "| `*` | Multiplication | `x * y` |\n",
    "| `/` | Division | `x / y` |\n",
    "| `%` | Modulus | `x % y` |\n",
    "| `**` | Exponentiation | `x ** y` |\n",
    "| `//` | Floor division | `x // y` |\n"
   ]
  },
  {
   "cell_type": "code",
   "execution_count": 36,
   "id": "737beeac",
   "metadata": {},
   "outputs": [],
   "source": [
    "# Show some of the \"gotchas\" with floating point arithmetic\n",
    "a = 0.10\n",
    "b = 0.20\n",
    "c = a + b"
   ]
  },
  {
   "cell_type": "code",
   "execution_count": 33,
   "id": "679ba211",
   "metadata": {},
   "outputs": [],
   "source": [
    "# What is the value of c?\n",
    "# my_guess = ?"
   ]
  },
  {
   "cell_type": "code",
   "execution_count": null,
   "id": "5903edea",
   "metadata": {},
   "outputs": [],
   "source": []
  },
  {
   "attachments": {},
   "cell_type": "markdown",
   "id": "e4c75504",
   "metadata": {},
   "source": [
    "## Lists and Tuples and Sets\n",
    "\n",
    "### Lists\n",
    "- ordered\n",
    "- mutable\n",
    "- allows duplicate members\n",
    "\n",
    "### Tuples\n",
    "- ordered\n",
    "- immutable\n",
    "- allows duplicate members\n",
    "\n",
    "### Sets\n",
    "- unordered\n",
    "- unindexed\n",
    "- mutable\n",
    "- no duplicate members\n"
   ]
  },
  {
   "cell_type": "code",
   "execution_count": 43,
   "id": "d0a99d43",
   "metadata": {},
   "outputs": [
    {
     "name": "stdout",
     "output_type": "stream",
     "text": [
      "x: [1, 2, 3], y: [1, 2, 3]\n",
      "x: [0, 2, 3], y: [0, 2, 3]\n"
     ]
    }
   ],
   "source": [
    "# Lists\n",
    "\n",
    "x = [1, 2, 3]\n",
    "y = x\n",
    "print('x: {x}, y: {y}'.format(x=x, y=y))\n",
    "\n",
    "x[0] = 0\n",
    "print('x: {x}, y: {y}'.format(x=x, y=y))"
   ]
  },
  {
   "attachments": {},
   "cell_type": "markdown",
   "id": "c28466d9",
   "metadata": {},
   "source": [
    "#### List indexing\n",
    "\n",
    "** Python uses zero-based indexing, so the first item in the list is at index 0. **\n",
    "\n",
    "- `list[0]` returns the (n-1)th item in the list. \n",
    "- `list[-1]` returns the last item in the list\n",
    "- `list[1:3]` returns the second item through the third item\n",
    "- `list[:3]` returns the first item through the third item\n",
    "- `list[1:]` returns the second item through the last item\n",
    "- `list[:]` returns a copy of the list\n",
    "- `list[::n]` returns every nth item in the list\n",
    "- `list[::-1]` returns the list in reverse order"
   ]
  },
  {
   "attachments": {},
   "cell_type": "markdown",
   "id": "51336198",
   "metadata": {},
   "source": [
    "## Logical Operators\n",
    "\n",
    "| Operator | Description | Example |\n",
    "| --- | --- | --- |\n",
    "| `and` | Returns True if both statements are true | `x < 5 and  x < 10` |\n",
    "| `or` | Returns True if one of the statements is true | `x < 5 or x < 4` |\n",
    "| `not` | Reverse the result, returns False if the result is true | `not(x < 5 and x < 10)` |\n",
    "\n",
    "## Comparison Operators\n",
    "| Operator | Description | Example |\n",
    "| --- | --- | --- |\n",
    "| == | Equal | x == y |\n",
    "| != | Not equal | x != y |\n",
    "| > | Greater than | x > y |\n",
    "| < | Less than | x < y |\n",
    "| >= | Greater than or equal to | x >= y |\n",
    "| <= | Less than or equal to | x <= y |\n"
   ]
  },
  {
   "cell_type": "code",
   "execution_count": null,
   "id": "d95f4247",
   "metadata": {},
   "outputs": [],
   "source": []
  },
  {
   "attachments": {},
   "cell_type": "markdown",
   "id": "936215fd",
   "metadata": {},
   "source": [
    "## Conditional Statements\n",
    "\n",
    "### If Statement\n",
    "- `if` statement is used to check a condition\n",
    "- `elif` is short for else if\n",
    "- `else` is a catch-all statement\n",
    "Example\n",
    "```python\n",
    "if condition1:\n",
    "    statement1\n",
    "elif condition2:\n",
    "    statement2\n",
    "else:\n",
    "    statement3\n",
    "```"
   ]
  },
  {
   "attachments": {},
   "cell_type": "markdown",
   "id": "761d7c32",
   "metadata": {},
   "source": []
  },
  {
   "attachments": {},
   "cell_type": "markdown",
   "id": "841aeb48",
   "metadata": {},
   "source": [
    "## Loops\n",
    "\n",
    "### For loop\n",
    "- `for` loop is used to iterate over a sequence (list, tuple, string) or other iterable objects\n",
    "- `range()` function returns a sequence of numbers, starting from 0 by default, and increments by 1 (by default), and ends at a specified number\n",
    "- `enumerate()` function adds a counter to an iterable\n",
    "Example\n",
    "```python\n",
    "for item in iterable:\n",
    "    statement1\n",
    "    statement2\n",
    "```\n",
    "\n",
    "Enumerate example\n",
    "```python\n",
    "for index, item in enumerate(iterable):\n",
    "    statement1\n",
    "    statement2\n",
    "```\n",
    "\n",
    "### While loop\n",
    "- `while` loop is used to execute a set of statements as long as a condition is true\n",
    "Example\n",
    "```python\n",
    "while condition:\n",
    "    statement1\n",
    "    statement2\n",
    "```"
   ]
  },
  {
   "attachments": {},
   "cell_type": "markdown",
   "id": "9d271110",
   "metadata": {},
   "source": []
  },
  {
   "attachments": {},
   "cell_type": "markdown",
   "id": "2610a77a",
   "metadata": {},
   "source": [
    "## Functions\n",
    "\n",
    "### Built-in Functions\n",
    "- $\\star$ `print()` function prints the specified message to the screen, or other standard output device\n",
    "- $\\star$ `len()` function returns the number of items in an object\n",
    "- $\\star$  `range()` function returns a sequence of numbers, starting from 0 by default, and increments by 1 (by default), and ends at a specified number\n",
    "- $\\star$ `enumerate()` function adds a counter to an iterable\n",
    "\n",
    "- $\\star$ `sum()` function returns the sum of all items in an iterable\n",
    "- $\\star$ `max()` function returns the largest item in an iterable\n",
    "- $\\star$  `min()` function returns the smallest item in an iterable\n",
    "- $\\star$ `abs()` function returns the absolute value of a number\n",
    "- $\\star$ `all()` function returns True if all items in an iterable are true, otherwise it returns False\n",
    "- $\\star$ `any()` function returns True if any item in an iterable are true, otherwise it returns False\n",
    "\n",
    "- `round()` function returns a floating point number that is a rounded version of the specified number, with the specified number of decimals\n",
    "\n",
    "- `sorted()` function returns a sorted list of the specified iterable object\n",
    "- `reversed()` function returns a reversed iterator\n",
    "\n",
    "- `zip()` function returns a zip object, which is an iterator of tuples where the first item in each passed iterator is paired together, and then the second item in each passed iterator are paired together etc\n",
    "- `map()` function returns a map object(which is an iterator) of the results after applying the given function to each item of a given iterable (list, tuple etc.)\n",
    "- `filter()` function returns an iterator were the items are filtered through a function to test if the item is accepted or not\n",
    "\n"
   ]
  },
  {
   "attachments": {},
   "cell_type": "markdown",
   "id": "5ff1faf3",
   "metadata": {},
   "source": [
    "### Writing Functions\n",
    "\n",
    "- `def` keyword is used to define a function\n",
    "- `return` keyword is used to return a value from a function\n",
    "- `pass` keyword is used to pass on a function\n",
    "\n",
    "** Arguments and Keyword Arguments **\n",
    "```python\n",
    "def function_name(arg1, arg2, kwarg1=None, kwarg2=None):\n",
    "    statement1\n",
    "    statement2\n",
    "    return value\n",
    "```\n",
    "\n",
    "Example 1\n",
    "```python\n",
    "def add(x, y):\n",
    "    return x + y\n",
    "```\n",
    "\n",
    "Example 2\n",
    "```python\n",
    "def add(x, y=1):\n",
    "    return x + y\n",
    "```\n",
    "\n",
    "Example 3\n",
    "```python\n",
    "def add(x, y=1, z=2):\n",
    "    return x + y + z\n",
    "```\n"
   ]
  },
  {
   "attachments": {},
   "cell_type": "markdown",
   "id": "d2208f03",
   "metadata": {},
   "source": []
  },
  {
   "attachments": {},
   "cell_type": "markdown",
   "id": "5eb2d87b",
   "metadata": {},
   "source": [
    "### Imports and Modules\n",
    "\n",
    "- `import` keyword is used to import a module\n",
    "- `from` keyword is used to import a specific function from a module\n",
    "- `as` keyword is used to rename a module\n",
    "\n",
    "numpy and scipy example\n",
    "```python\n",
    "import numpy as np\n",
    "from scipy import integrate\n",
    "```"
   ]
  },
  {
   "attachments": {},
   "cell_type": "markdown",
   "id": "f783ac53",
   "metadata": {},
   "source": []
  }
 ],
 "metadata": {
  "kernelspec": {
   "display_name": "Python 3 (ipykernel)",
   "language": "python",
   "name": "python3"
  },
  "language_info": {
   "codemirror_mode": {
    "name": "ipython",
    "version": 3
   },
   "file_extension": ".py",
   "mimetype": "text/x-python",
   "name": "python",
   "nbconvert_exporter": "python",
   "pygments_lexer": "ipython3",
   "version": "3.9.13"
  }
 },
 "nbformat": 4,
 "nbformat_minor": 5
}
