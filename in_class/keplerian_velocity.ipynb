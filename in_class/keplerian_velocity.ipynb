{
 "cells": [
  {
   "cell_type": "code",
   "execution_count": 1,
   "metadata": {},
   "outputs": [],
   "source": [
    "import astropy.units as u"
   ]
  },
  {
   "attachments": {},
   "cell_type": "markdown",
   "metadata": {},
   "source": [
    "# Keplerian Amplitude\n",
    "\n",
    "In class we saw the peak velocity for a star with a planet going around it is given by\n",
    "\n",
    "$$ K = {\\rm 9\\ cm/s} \\left(\\frac{m_p}{M_\\oplus}\\right) \\left(\\frac{M_\\star + m_p}{M_\\odot}\\right)^{-2/3} \\left(\\frac{P}{year}\\right)^{-1/3} $$\n",
    "\n",
    "We want to be able to use this for planets of different masses and orbital periods. To do that, it would be convenient to wrap this up as a function. We can do that as follows:\n"
   ]
  },
  {
   "attachments": {},
   "cell_type": "markdown",
   "metadata": {},
   "source": [
    "Now let's do this with `astropy.units` and `astropy.constants`. "
   ]
  },
  {
   "cell_type": "code",
   "execution_count": 11,
   "metadata": {},
   "outputs": [
    {
     "name": "stdout",
     "output_type": "stream",
     "text": [
      "8.99998197910901 cm / s\n",
      "K = 9.00 cm / s\n"
     ]
    }
   ],
   "source": [
    "def keplerian_K(Mp, P, Mstar=1.0):\n",
    "    \"\"\"\n",
    "    Calculate the keplerian amplitude for a planet with mass Mp and period P\n",
    "    orbiting a star with mass Mstar.\n",
    "    \n",
    "    Parameters\n",
    "    ----------\n",
    "    Mp : float\n",
    "        Planet mass in Earth masses\n",
    "    P : float\n",
    "        Orbital period in years\n",
    "    Mstar : float, optional\n",
    "        Stellar mass in solar masses. Default is 1.0.\n",
    "        \n",
    "    Returns\n",
    "    -------\n",
    "    K : float\n",
    "        Keplerian amplitude in cm/s\n",
    "    \"\"\"\n",
    "    # with normalized units. pay attention to the parenthesis\n",
    "    kepK = (9 * u.cm/u.s) * (Mp / u.M_earth) * ((Mstar + Mp) / u.M_sun)**(-2/3) * (P / u.year)**(-1/3)\n",
    "    # return the velocity in cm/s\n",
    "    return kepK.to(u.cm/u.s)\n",
    "\n",
    "\n",
    "#This can be called with any units\n",
    "    \n",
    "\n",
    "mass_earth = 1.0 * u.M_earth\n",
    "period = 1 * u.year\n",
    "\n",
    "# still gonna put it around the sun\n",
    "mass_star = 1.0 * u.M_sun\n",
    "K = keplerian_K(mass_earth, period, mass_star)\n",
    "\n",
    "\n",
    "print(K)\n",
    "\n",
    "# we can also print it nicely. the .2f means 2 decimal places\n",
    "print(f\"K = {K:.2f}\")"
   ]
  },
  {
   "attachments": {},
   "cell_type": "markdown",
   "metadata": {},
   "source": []
  }
 ],
 "metadata": {
  "kernelspec": {
   "display_name": "base",
   "language": "python",
   "name": "python3"
  },
  "language_info": {
   "codemirror_mode": {
    "name": "ipython",
    "version": 3
   },
   "file_extension": ".py",
   "mimetype": "text/x-python",
   "name": "python",
   "nbconvert_exporter": "python",
   "pygments_lexer": "ipython3",
   "version": "3.9.17"
  },
  "orig_nbformat": 4
 },
 "nbformat": 4,
 "nbformat_minor": 2
}
