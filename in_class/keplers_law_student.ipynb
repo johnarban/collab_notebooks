{
 "cells": [
  {
   "attachments": {},
   "cell_type": "markdown",
   "metadata": {},
   "source": [
    "## Fitting Kepler's Law\n",
    "\n",
    "If Kepler had access to even basic computation it wouldn't have taken him so long to figure out his laws. Let's use Python to fit Kepler's law to the data."
   ]
  },
  {
   "cell_type": "code",
   "execution_count": null,
   "metadata": {},
   "outputs": [],
   "source": [
    "# We almost always want to import numpy and matplotlib\n",
    "import numpy as np\n",
    "import matplotlib.pyplot as plt\n",
    "\n",
    "# we will also need curve_fit\n",
    "from scipy.optimize import curve_fit"
   ]
  },
  {
   "cell_type": "code",
   "execution_count": null,
   "metadata": {},
   "outputs": [],
   "source": [
    "# let's make a data structure to hold the data for the planets\n",
    "# We will use a dictionary to hold the data for each planet\n",
    "# The keys will be the planet names\n",
    "# The values will be a list of the period and distance from the sun\n",
    "planet_data = {\n",
    "    # planet: [period, distance]\n",
    "}\n",
    "\n",
    "# We can get the keys using the keys() method\n",
    "# planet_names = \n",
    "# print(planet_names)\n",
    "\n",
    "# We can get the values using the values() method\n",
    "# planet_values = \n",
    "# print(planet_values)"
   ]
  },
  {
   "attachments": {},
   "cell_type": "markdown",
   "metadata": {},
   "source": [
    "When using dictionaries, the way we get values out is to use keys. For example, if we have a dictionary called `planet` and we want to get the value for the key `mass` we would write `planet['mass']`. The values of each key can be any type of data, including other dictionaries.\n",
    "\n",
    "```python\n",
    "planet = {'mass': 1.0, 'radius': 1.0, 'period': {'in_years':1, 'in_days':365}}\n",
    "planet['mass']\n",
    "# 1.0\n",
    "```"
   ]
  },
  {
   "cell_type": "code",
   "execution_count": null,
   "metadata": {},
   "outputs": [],
   "source": [
    "# We want to get the period and distance for each planet\n",
    "\n",
    "# start with empy lists to hold the periods and distances\n",
    "periods = []\n",
    "distances = []\n",
    "\n",
    "\n",
    "print('Periods:', periods)\n",
    "print('Distances:', distances)"
   ]
  },
  {
   "attachments": {},
   "cell_type": "markdown",
   "metadata": {},
   "source": [
    "## Plotting\n",
    "\n",
    "The first step to figuring out what the relationship between period and distance is, is to plot our data. This is a good first step in any form of data analysis. Let's use the `matplotlib` library to make a plot.\n",
    "\n",
    "We want to predict the Period from the Distance. So let's plot the Period on the y-axis and the Distance on the x-axis."
   ]
  },
  {
   "cell_type": "code",
   "execution_count": null,
   "metadata": {},
   "outputs": [],
   "source": [
    "# let's make a quick plot of the data\n"
   ]
  },
  {
   "cell_type": "code",
   "execution_count": null,
   "metadata": {},
   "outputs": [],
   "source": [
    "# let's look at the data on a log scale to get a better look"
   ]
  },
  {
   "cell_type": "code",
   "execution_count": null,
   "metadata": {},
   "outputs": [],
   "source": [
    "# To analyze the data, let's look at the log of the data"
   ]
  },
  {
   "attachments": {},
   "cell_type": "markdown",
   "metadata": {},
   "source": [
    "A straight line in log-log space has the form is\n",
    "\n",
    "log(distance) = slope * log(period)\n",
    "$$ \\log(a) = m \\log(P) $$\n",
    "\n",
    "Converting to linear space we have\n",
    "\n",
    "$$ a = P^m $$\n",
    "\n",
    "where $m$ is the slope of the line. "
   ]
  },
  {
   "attachments": {},
   "cell_type": "markdown",
   "metadata": {},
   "source": [
    "## Fitting the data\n",
    "\n",
    "\n",
    "So this data simple enough that we can kinda guesstimate the slope. However, we can also use `scipy.optimize.curve_fit` to fit a function to data. \n",
    "\n",
    "`curve_fit` tries to find values for the parameters of a function that \"best fit\" the data.\n",
    "\n",
    "We want to use a function that looks like this: $ d = P^m$\n",
    "\n"
   ]
  },
  {
   "cell_type": "code",
   "execution_count": null,
   "metadata": {},
   "outputs": [],
   "source": [
    "# Let's define our model function"
   ]
  },
  {
   "cell_type": "code",
   "execution_count": null,
   "metadata": {},
   "outputs": [],
   "source": [
    "# Let's fit the data to the model\n",
    "\n",
    "\n",
    "# print('Best fit is P^{:.1f} = d'.format())"
   ]
  },
  {
   "cell_type": "code",
   "execution_count": null,
   "metadata": {},
   "outputs": [],
   "source": [
    "# So our best fit is\n",
    "\n"
   ]
  },
  {
   "cell_type": "code",
   "execution_count": null,
   "metadata": {},
   "outputs": [],
   "source": [
    "# Let's plot that over our data\n",
    "# Put in a legend for the data and the fit"
   ]
  },
  {
   "cell_type": "code",
   "execution_count": null,
   "metadata": {},
   "outputs": [],
   "source": []
  }
 ],
 "metadata": {
  "kernelspec": {
   "display_name": "base",
   "language": "python",
   "name": "python3"
  },
  "language_info": {
   "codemirror_mode": {
    "name": "ipython",
    "version": 3
   },
   "file_extension": ".py",
   "mimetype": "text/x-python",
   "name": "python",
   "nbconvert_exporter": "python",
   "pygments_lexer": "ipython3",
   "version": "3.9.13"
  },
  "orig_nbformat": 4
 },
 "nbformat": 4,
 "nbformat_minor": 2
}
